{
  "nbformat": 4,
  "nbformat_minor": 0,
  "metadata": {
    "colab": {
      "provenance": []
    },
    "kernelspec": {
      "name": "python3",
      "display_name": "Python 3"
    },
    "language_info": {
      "name": "python"
    }
  },
  "cells": [
    {
      "cell_type": "markdown",
      "source": [
        "# Decision Tree Assignment Answers\n",
        "\n",
        "#Theoretical Questions\n",
        "\n",
        "1. What is a Decision Tree, and how does it work?\n",
        "\n",
        "A Decision Tree is a supervised machine learning algorithm used for classification and regression tasks. It represents decisions and their possible consequences as a tree-like structure, with nodes and branches. It works by:\n",
        "\n",
        "Root Node: Starting with all data, it selects a feature to split based on a criterion (e.g., Gini Impurity, Entropy).\n",
        "Internal Nodes: Each node represents a feature and a decision rule (e.g., \"age > 30\"), splitting data into subsets.\n",
        "Branches: Represent the outcome of a decision rule, leading to child nodes.\n",
        "Leaf Nodes: Represent the final output (class label for classification or value for regression).The tree recursively splits the input space into regions based on feature thresholds, making predictions by traversing from the root to a leaf.\n",
        "\n",
        "2. What are impurity measures in Decision Trees?\n",
        "\n",
        "Impurity measures quantify the heterogeneity of a node in a Decision Tree, guiding the selection of splits to create purer child nodes. Common measures include:\n",
        "\n",
        "Gini Impurity: Measures the probability of misclassifying a randomly chosen element.\n",
        "Entropy: Measures the uncertainty or randomness in the node’s class distribution.\n",
        "Misclassification Error: Measures the proportion of incorrect predictions.Lower impurity indicates a more homogeneous node, and the algorithm chooses splits that minimize impurity.\n",
        "\n",
        "3. What is the mathematical formula for Gini Impurity?\n",
        "\n",
        "Gini Impurity for a node is calculated as:[\\text{Gini} = 1 - \\sum_{i=1}^k p_i^2]where:\n",
        "\n",
        "(k): Number of classes.\n",
        "(p_i): Proportion of instances belonging to class (i) in the node.It ranges from 0 (pure node, all instances of one class) to (1 - \\frac{1}{k}) (maximum impurity, equal distribution).\n",
        "\n",
        "4. What is the mathematical formula for Entropy?\n",
        "\n",
        "Entropy for a node is calculated as:[\\text{Entropy} = - \\sum_{i=1}^k p_i \\log_2(p_i)]where:\n",
        "\n",
        "(k): Number of classes.\n",
        "(p_i): Proportion of instances belonging to class (i) in the node.Entropy ranges from 0 (pure node) to (\\log_2(k)) (maximum uncertainty). It measures the randomness in the node’s class distribution.\n",
        "\n",
        "5. What is Information Gain, and how is it used in Decision Trees?\n",
        "\n",
        "Information Gain measures the reduction in impurity (e.g., Entropy or Gini) after a node is split on a feature. It is calculated as:[\\text{Information Gain} = \\text{Impurity(parent)} - \\sum_{j} \\frac{N_j}{N} \\text{Impurity(child}_j)]where:\n",
        "\n",
        "(\\text{Impurity(parent)}): Impurity of the parent node.\n",
        "(N_j): Number of instances in child node (j).\n",
        "(N): Total number of instances in the parent node.Decision Trees select the feature and threshold that maximize Information Gain to create the most informative splits.\n",
        "\n",
        "6. What is the difference between Gini Impurity and Entropy?\n",
        "\n",
        "Gini Impurity:\n",
        "Formula: (1 - \\sum p_i^2).\n",
        "Measures probability of misclassification.\n",
        "Computationally simpler (no logarithms).\n",
        "Biased toward splits with fewer classes.\n",
        "\n",
        "\n",
        "Entropy:\n",
        "Formula: (-\\sum p_i \\log_2(p_i)).\n",
        "Measures information uncertainty.\n",
        "More computationally intensive due to logarithms.\n",
        "Sensitive to class distribution changes.Both are effective, but Gini is often preferred for speed, while Entropy may be better for balanced splits.\n",
        "\n",
        "\n",
        "\n",
        "7. What is the mathematical explanation behind Decision Trees?\n",
        "\n",
        "Decision Trees work by recursively partitioning the input space into regions based on feature thresholds, minimizing impurity at each split. Mathematically:\n",
        "\n",
        "At each node, the algorithm evaluates all possible splits for each feature, calculating the impurity (e.g., Gini or Entropy) of child nodes.\n",
        "The split that maximizes Information Gain (or minimizes weighted child impurity) is chosen.\n",
        "This process repeats until a stopping criterion (e.g., max depth, minimum samples) is met.\n",
        "For classification, the leaf node assigns the majority class; for regression, it assigns the mean value.The tree optimizes a loss function implicitly by reducing impurity, balancing fit and complexity.\n",
        "\n",
        "8. What is Pre-Pruning in Decision Trees?\n",
        "\n",
        "Pre-Pruning (or early stopping) involves setting constraints during tree construction to prevent overfitting. Common parameters include:\n",
        "\n",
        "max_depth: Limits the tree’s depth.\n",
        "min_samples_split: Minimum number of samples required to split a node.\n",
        "min_samples_leaf: Minimum number of samples required in a leaf node.\n",
        "max_leaf_nodes: Limits the number of leaf nodes.Pre-Pruning stops tree growth early, creating simpler models but risking underfitting if constraints are too strict.\n",
        "\n",
        "9. What is Post-Pruning in Decision Trees?\n",
        "\n",
        "Post-Pruning (or cost complexity pruning) involves growing a full tree and then removing branches that contribute little to predictive accuracy. It uses a cost complexity parameter ((\\alpha)) to balance tree complexity and training error:[R_\\alpha(T) = R(T) + \\alpha |T|]where:\n",
        "\n",
        "(R(T)): Tree’s error (e.g., misclassification rate).\n",
        "(|T|): Number of leaf nodes.\n",
        "(\\alpha): Pruning strength (higher (\\alpha) prunes more).Post-Pruning evaluates subtrees on validation data, removing those with minimal impact on accuracy.\n",
        "\n",
        "10. What is the difference between Pre-Pruning and Post-Pruning?\n",
        "\n",
        "Pre-Pruning:\n",
        "Applies constraints during tree construction.\n",
        "Faster, as it prevents complex trees from being built.\n",
        "Risks underfitting if constraints are too restrictive.\n",
        "Examples: max_depth, min_samples_split.\n",
        "\n",
        "\n",
        "Post-Pruning:\n",
        "Grows a full tree, then removes branches based on validation performance.\n",
        "More computationally intensive but often more accurate.\n",
        "Balances complexity and accuracy using a pruning parameter ((\\alpha)).\n",
        "Better at finding optimal tree size but requires validation data.\n",
        "\n",
        "\n",
        "\n",
        "11. What is a Decision Tree Regressor?\n",
        "\n",
        "A Decision Tree Regressor is a Decision Tree used for regression tasks, predicting continuous outcomes instead of class labels. It works similarly to a classifier but:\n",
        "\n",
        "Splits minimize variance (e.g., mean squared error) in child nodes instead of impurity.\n",
        "Leaf nodes predict the mean (or median) of the target values in that region.\n",
        "It partitions the feature space into regions and assigns a continuous value to each region.\n",
        "\n",
        "12. What are the advantages and disadvantages of Decision Trees?\n",
        "\n",
        "Advantages:\n",
        "\n",
        "Easy to interpret and visualize.\n",
        "Handles both numerical and categorical data.\n",
        "Non-parametric, no assumption about data distribution.\n",
        "Captures non-linear relationships.\n",
        "Fast for small to medium datasets.Disadvantages:\n",
        "Prone to overfitting, especially with deep trees.\n",
        "Sensitive to small data changes, leading to different trees.\n",
        "Poor performance with imbalanced data.\n",
        "Struggles with extrapolation beyond training data range.\n",
        "Can be biased toward features with many categories.\n",
        "\n",
        "13. How does a Decision Tree handle missing values?\n",
        "\n",
        "Decision Trees handle missing values by:\n",
        "\n",
        "Surrogate Splits: Using alternative features correlated with the primary feature to make splits.\n",
        "Assigning to Majority Branch: Sending instances with missing values to the most common child node.\n",
        "Imputation: Some implementations (e.g., scikit-learn) require preprocessing to impute missing values (e.g., mean, median, or mode) before training.\n",
        "Fractional Assignment: Assigning missing values to all child nodes with weights based on distribution (less common).\n",
        "\n",
        "14. How does a Decision Tree handle categorical features?\n",
        "\n",
        "Decision Trees handle categorical features by:\n",
        "\n",
        "Binary Splits: Treating each category as a binary condition (e.g., “is category A?”).\n",
        "One-Hot Encoding: Converting categorical variables into binary columns (common in scikit-learn).\n",
        "Direct Handling: Some implementations (e.g., CART) natively handle categorical variables by evaluating splits over all categories or subsets.\n",
        "Ordinal Encoding: If categories are ordinal, assigning integers (less common).The choice depends on the implementation and feature cardinality.\n",
        "\n",
        "15. What are some real-world applications of Decision Trees?\n",
        "\n",
        "Medical Diagnosis: Classifying diseases based on symptoms and test results.\n",
        "Credit Scoring: Predicting loan default risk based on applicant features.\n",
        "Customer Segmentation: Grouping customers by purchasing behavior.\n",
        "Fraud Detection: Identifying fraudulent transactions based on patterns.\n",
        "Recommendation Systems: Recommending products based on user preferences.\n",
        "Regression Tasks: Predicting house prices or stock values.\n",
        "\n",
        "\n"
      ],
      "metadata": {
        "id": "E0GyKDMVoBq-"
      }
    },
    {
      "cell_type": "code",
      "source": [
        "#1. Write a Python program to train a Decision Tree Classifier on the Iris dataset and print the model accuracy.\n",
        "\n",
        "from sklearn.datasets import load_iris\n",
        "from sklearn.model_selection import train_test_split\n",
        "from sklearn.tree import DecisionTreeClassifier\n",
        "from sklearn.metrics import accuracy_score\n",
        "\n",
        "# Load the Iris dataset\n",
        "iris = load_iris()\n",
        "X, y = iris.data, iris.target\n",
        "\n",
        "# Split the dataset into training (70%) and testing (30%) sets\n",
        "X_train, X_test, y_train, y_test = train_test_split(X, y, test_size=0.3, random_state=42)\n",
        "\n",
        "# Initialize and train the Decision Tree Classifier\n",
        "clf = DecisionTreeClassifier(random_state=42)\n",
        "clf.fit(X_train, y_train)\n",
        "\n",
        "# Make predictions on the test set\n",
        "y_pred = clf.predict(X_test)\n",
        "\n",
        "# Calculate and print the model accuracy\n",
        "accuracy = accuracy_score(y_test, y_pred)\n",
        "print(f\"Model Accuracy: {accuracy:.4f}\")"
      ],
      "metadata": {
        "colab": {
          "base_uri": "https://localhost:8080/"
        },
        "id": "nYbXMBNvolIl",
        "outputId": "1153410a-38d8-4804-a450-9a21065b83eb"
      },
      "execution_count": 2,
      "outputs": [
        {
          "output_type": "stream",
          "name": "stdout",
          "text": [
            "Model Accuracy: 1.0000\n"
          ]
        }
      ]
    },
    {
      "cell_type": "code",
      "source": [
        "#2. Write a Python program to train a Decision Tree Classifier using Gini Impurity as the criterion and print the feature importances.\n",
        "from sklearn.datasets import load_iris\n",
        "from sklearn.model_selection import train_test_split\n",
        "from sklearn.tree import DecisionTreeClassifier\n",
        "\n",
        "# Load Iris dataset\n",
        "iris = load_iris()\n",
        "X, y = iris.data, iris.target\n",
        "\n",
        "# Split into training and testing sets\n",
        "X_train, X_test, y_train, y_test = train_test_split(X, y, test_size=0.3, random_state=42)\n",
        "\n",
        "# Train Decision Tree Classifier with Gini criterion\n",
        "clf = DecisionTreeClassifier(criterion='gini', random_state=42)\n",
        "clf.fit(X_train, y_train)\n",
        "\n",
        "# Print feature importances\n",
        "print(\"Feature Importances:\")\n",
        "for feature, importance in zip(iris.feature_names, clf.feature_importances_):\n",
        "    print(f\"{feature}: {importance:.4f}\")"
      ],
      "metadata": {
        "colab": {
          "base_uri": "https://localhost:8080/"
        },
        "id": "gCYtUZTdooOL",
        "outputId": "164cc479-a1e7-44ce-f7ca-6f381d1abbc9"
      },
      "execution_count": 3,
      "outputs": [
        {
          "output_type": "stream",
          "name": "stdout",
          "text": [
            "Feature Importances:\n",
            "sepal length (cm): 0.0000\n",
            "sepal width (cm): 0.0191\n",
            "petal length (cm): 0.8933\n",
            "petal width (cm): 0.0876\n"
          ]
        }
      ]
    },
    {
      "cell_type": "code",
      "source": [
        "#3. Write a Python program to train a Decision Tree Classifier using Entropy as the splitting criterion and print the model accuracy.\n",
        "from sklearn.datasets import load_iris\n",
        "from sklearn.model_selection import train_test_split\n",
        "from sklearn.tree import DecisionTreeClassifier\n",
        "from sklearn.metrics import accuracy_score\n",
        "\n",
        "# Load Iris dataset\n",
        "iris = load_iris()\n",
        "X, y = iris.data, iris.target\n",
        "\n",
        "# Split into training and testing sets\n",
        "X_train, X_test, y_train, y_test = train_test_split(X, y, test_size=0.3, random_state=42)\n",
        "\n",
        "# Train Decision Tree Classifier with Entropy criterion\n",
        "clf = DecisionTreeClassifier(criterion='entropy', random_state=42)\n",
        "clf.fit(X_train, y_train)\n",
        "\n",
        "# Predict and evaluate accuracy\n",
        "y_pred = clf.predict(X_test)\n",
        "accuracy = accuracy_score(y_test, y_pred)\n",
        "print(f\"Model Accuracy with Entropy: {accuracy:.4f}\")"
      ],
      "metadata": {
        "colab": {
          "base_uri": "https://localhost:8080/"
        },
        "id": "ZRCR7wbwpB2e",
        "outputId": "b65db7e6-2cfd-4244-8bb3-5f5dbc9c5b61"
      },
      "execution_count": 4,
      "outputs": [
        {
          "output_type": "stream",
          "name": "stdout",
          "text": [
            "Model Accuracy with Entropy: 0.9778\n"
          ]
        }
      ]
    },
    {
      "cell_type": "code",
      "source": [
        "#4. Write a Python program to train a Decision Tree Regressor on a housing dataset and evaluate using Mean Squared Error (MSE).\n",
        "from sklearn.datasets import fetch_california_housing\n",
        "from sklearn.model_selection import train_test_split\n",
        "from sklearn.tree import DecisionTreeRegressor\n",
        "from sklearn.metrics import mean_squared_error\n",
        "\n",
        "# Load California Housing dataset\n",
        "housing = fetch_california_housing()\n",
        "X, y = housing.data, housing.target\n",
        "\n",
        "# Split into training and testing sets\n",
        "X_train, X_test, y_train, y_test = train_test_split(X, y, test_size=0.3, random_state=42)\n",
        "\n",
        "# Train Decision Tree Regressor\n",
        "reg = DecisionTreeRegressor(random_state=42)\n",
        "reg.fit(X_train, y_train)\n",
        "\n",
        "# Predict and evaluate MSE\n",
        "y_pred = reg.predict(X_test)\n",
        "mse = mean_squared_error(y_test, y_pred)\n",
        "print(f\"Mean Squared Error: {mse:.4f}\")"
      ],
      "metadata": {
        "colab": {
          "base_uri": "https://localhost:8080/"
        },
        "id": "vWHL45LLpIrF",
        "outputId": "1ce6805a-481a-4b6c-bc1d-7a773ee940e3"
      },
      "execution_count": 5,
      "outputs": [
        {
          "output_type": "stream",
          "name": "stdout",
          "text": [
            "Mean Squared Error: 0.5280\n"
          ]
        }
      ]
    },
    {
      "cell_type": "code",
      "source": [
        "#5. Write a Python program to train a Decision Tree Classifier and visualize the tree using graphviz.\n",
        "from sklearn.datasets import load_iris\n",
        "from sklearn.model_selection import train_test_split\n",
        "from sklearn.tree import DecisionTreeClassifier\n",
        "from sklearn.tree import export_graphviz\n",
        "import graphviz\n",
        "\n",
        "# Load Iris dataset\n",
        "iris = load_iris()\n",
        "X, y = iris.data, iris.target\n",
        "\n",
        "# Split into training and testing sets\n",
        "X_train, X_test, y_train, y_test = train_test_split(X, y, test_size=0.3, random_state=42)\n",
        "\n",
        "# Train Decision Tree Classifier\n",
        "clf = DecisionTreeClassifier(random_state=42)\n",
        "clf.fit(X_train, y_train)\n",
        "\n",
        "# Export tree to DOT format\n",
        "dot_data = export_graphviz(clf, out_file=None, feature_names=iris.feature_names,\n",
        "                           class_names=iris.target_names, filled=True, rounded=True)\n",
        "\n",
        "# Visualize the tree\n",
        "graph = graphviz.Source(dot_data)\n",
        "graph.render(\"decision_tree\", format=\"png\", view=True)\n",
        "print(\"Decision Tree visualized as 'decision_tree.png'\")"
      ],
      "metadata": {
        "colab": {
          "base_uri": "https://localhost:8080/"
        },
        "id": "zu9Yro4FpOqA",
        "outputId": "131c7532-109e-45d7-d03b-f24a47cd8111"
      },
      "execution_count": 6,
      "outputs": [
        {
          "output_type": "stream",
          "name": "stdout",
          "text": [
            "Decision Tree visualized as 'decision_tree.png'\n"
          ]
        }
      ]
    },
    {
      "cell_type": "code",
      "source": [
        "#6. Write a Python program to train a Decision Tree Classifier with a maximum depth of 3 and compare its accuracy with a fully grown tree.\n",
        "from sklearn.datasets import load_iris\n",
        "from sklearn.model_selection import train_test_split\n",
        "from sklearn.tree import DecisionTreeClassifier\n",
        "from sklearn.metrics import accuracy_score\n",
        "\n",
        "# Load Iris dataset\n",
        "iris = load_iris()\n",
        "X, y = iris.data, iris.target\n",
        "\n",
        "# Split into training and testing sets\n",
        "X_train, X_test, y_train, y_test = train_test_split(X, y, test_size=0.3, random_state=42)\n",
        "\n",
        "# Train Decision Tree with max_depth=3\n",
        "clf_limited = DecisionTreeClassifier(max_depth=3, random_state=42)\n",
        "clf_limited.fit(X_train, y_train)\n",
        "y_pred_limited = clf_limited.predict(X_test)\n",
        "accuracy_limited = accuracy_score(y_test, y_pred_limited)\n",
        "\n",
        "# Train fully grown Decision Tree\n",
        "clf_full = DecisionTreeClassifier(random_state=42)\n",
        "clf_full.fit(X_train, y_train)\n",
        "y_pred_full = clf_full.predict(X_test)\n",
        "accuracy_full = accuracy_score(y_test, y_pred_full)\n",
        "\n",
        "# Print accuracies\n",
        "print(f\"Accuracy with max_depth=3: {accuracy_limited:.4f}\")\n",
        "print(f\"Accuracy with fully grown tree: {accuracy_full:.4f}\")"
      ],
      "metadata": {
        "colab": {
          "base_uri": "https://localhost:8080/"
        },
        "id": "lgxwiLY9pVRg",
        "outputId": "d1e2d2ff-881f-4f2a-fbee-5a742e3a06b5"
      },
      "execution_count": 7,
      "outputs": [
        {
          "output_type": "stream",
          "name": "stdout",
          "text": [
            "Accuracy with max_depth=3: 1.0000\n",
            "Accuracy with fully grown tree: 1.0000\n"
          ]
        }
      ]
    },
    {
      "cell_type": "code",
      "source": [
        "#7. Write a Python program to train a Decision Tree Classifier using min_samples_split=5 and compare its accuracy with a default tree.\n",
        "from sklearn.datasets import load_iris\n",
        "from sklearn.model_selection import train_test_split\n",
        "from sklearn.tree import DecisionTreeClassifier\n",
        "from sklearn.metrics import accuracy_score\n",
        "\n",
        "# Load Iris dataset\n",
        "iris = load_iris()\n",
        "X, y = iris.data, iris.target\n",
        "\n",
        "# Split into training and testing sets\n",
        "X_train, X_test, y_train, y_test = train_test_split(X, y, test_size=0.3, random_state=42)\n",
        "\n",
        "# Train Decision Tree with min_samples_split=5\n",
        "clf_split = DecisionTreeClassifier(min_samples_split=5, random_state=42)\n",
        "clf_split.fit(X_train, y_train)\n",
        "y_pred_split = clf_split.predict(X_test)\n",
        "accuracy_split = accuracy_score(y_test, y_pred_split)\n",
        "\n",
        "# Train default Decision Tree\n",
        "clf_default = DecisionTreeClassifier(random_state=42)\n",
        "clf_default.fit(X_train, y_train)\n",
        "y_pred_default = clf_default.predict(X_test)\n",
        "accuracy_default = accuracy_score(y_test, y_pred_default)\n",
        "\n",
        "# Print accuracies\n",
        "print(f\"Accuracy with min_samples_split=5: {accuracy_split:.4f}\")\n",
        "print(f\"Accuracy with default tree: {accuracy_default:.4f}\")"
      ],
      "metadata": {
        "colab": {
          "base_uri": "https://localhost:8080/"
        },
        "id": "Lkl5nrttpbRp",
        "outputId": "4d680c32-31fb-4b93-fc4c-fb5d39363e86"
      },
      "execution_count": 8,
      "outputs": [
        {
          "output_type": "stream",
          "name": "stdout",
          "text": [
            "Accuracy with min_samples_split=5: 1.0000\n",
            "Accuracy with default tree: 1.0000\n"
          ]
        }
      ]
    },
    {
      "cell_type": "code",
      "source": [
        "#8. Write a Python program to apply feature scaling before training a Decision Tree Classifier and compare its accuracy with unscaled data.\n",
        "from sklearn.datasets import load_iris\n",
        "from sklearn.model_selection import train_test_split\n",
        "from sklearn.tree import DecisionTreeClassifier\n",
        "from sklearn.preprocessing import StandardScaler\n",
        "from sklearn.metrics import accuracy_score\n",
        "\n",
        "# Load Iris dataset\n",
        "iris = load_iris()\n",
        "X, y = iris.data, iris.target\n",
        "\n",
        "# Split into training and testing sets\n",
        "X_train, X_test, y_train, y_test = train_test_split(X, y, test_size=0.3, random_state=42)\n",
        "\n",
        "# Train on unscaled data\n",
        "clf_unscaled = DecisionTreeClassifier(random_state=42)\n",
        "clf_unscaled.fit(X_train, y_train)\n",
        "y_pred_unscaled = clf_unscaled.predict(X_test)\n",
        "accuracy_unscaled = accuracy_score(y_test, y_pred_unscaled)\n",
        "\n",
        "# Apply feature scaling\n",
        "scaler = StandardScaler()\n",
        "X_train_scaled = scaler.fit_transform(X_train)\n",
        "X_test_scaled = scaler.transform(X_test)\n",
        "\n",
        "# Train on scaled data\n",
        "clf_scaled = DecisionTreeClassifier(random_state=42)\n",
        "clf_scaled.fit(X_train_scaled, y_train)\n",
        "y_pred_scaled = clf_scaled.predict(X_test_scaled)\n",
        "accuracy_scaled = accuracy_score(y_test, y_pred_scaled)\n",
        "\n",
        "# Print accuracies\n",
        "print(f\"Accuracy with unscaled data: {accuracy_unscaled:.4f}\")\n",
        "print(f\"Accuracy with scaled data: {accuracy_scaled:.4f}\")"
      ],
      "metadata": {
        "colab": {
          "base_uri": "https://localhost:8080/"
        },
        "id": "9xQs-SytpiFQ",
        "outputId": "5a63d9d3-7da0-450a-b4e4-f28c52208e18"
      },
      "execution_count": 9,
      "outputs": [
        {
          "output_type": "stream",
          "name": "stdout",
          "text": [
            "Accuracy with unscaled data: 1.0000\n",
            "Accuracy with scaled data: 1.0000\n"
          ]
        }
      ]
    },
    {
      "cell_type": "code",
      "source": [
        "#9. Write a Python program to train a Decision Tree Classifier using One-vs-Rest (OvR) strategy for multiclass classification.\n",
        "from sklearn.datasets import load_iris\n",
        "from sklearn.model_selection import train_test_split\n",
        "from sklearn.multiclass import OneVsRestClassifier\n",
        "from sklearn.tree import DecisionTreeClassifier\n",
        "from sklearn.metrics import accuracy_score\n",
        "\n",
        "# Load Iris dataset\n",
        "iris = load_iris()\n",
        "X, y = iris.data, iris.target\n",
        "\n",
        "# Split into training and testing sets\n",
        "X_train, X_test, y_train, y_test = train_test_split(X, y, test_size=0.3, random_state=42)\n",
        "\n",
        "# Train Decision Tree Classifier with OvR\n",
        "clf = OneVsRestClassifier(DecisionTreeClassifier(random_state=42))\n",
        "clf.fit(X_train, y_train)\n",
        "\n",
        "# Predict and evaluate accuracy\n",
        "y_pred = clf.predict(X_test)\n",
        "accuracy = accuracy_score(y_test, y_pred)\n",
        "print(f\"Model Accuracy with OvR: {accuracy:.4f}\")"
      ],
      "metadata": {
        "colab": {
          "base_uri": "https://localhost:8080/"
        },
        "id": "nn38zC_opo7v",
        "outputId": "9be3c5ef-3aa0-4d0b-c958-76074a558a09"
      },
      "execution_count": 10,
      "outputs": [
        {
          "output_type": "stream",
          "name": "stdout",
          "text": [
            "Model Accuracy with OvR: 1.0000\n"
          ]
        }
      ]
    },
    {
      "cell_type": "code",
      "source": [
        "#10. Write a Python program to train a Decision Tree Classifier and display the feature importance scores.\n",
        "from sklearn.datasets import load_iris\n",
        "from sklearn.model_selection import train_test_split\n",
        "from sklearn.tree import DecisionTreeClassifier\n",
        "\n",
        "# Load Iris dataset\n",
        "iris = load_iris()\n",
        "X, y = iris.data, iris.target\n",
        "\n",
        "# Split into training and testing sets\n",
        "X_train, X_test, y_train, y_test = train_test_split(X, y, test_size=0.3, random_state=42)\n",
        "\n",
        "# Train Decision Tree Classifier\n",
        "clf = DecisionTreeClassifier(random_state=42)\n",
        "clf.fit(X_train, y_train)\n",
        "\n",
        "# Display feature importance scores\n",
        "print(\"Feature Importance Scores:\")\n",
        "for feature, importance in zip(iris.feature_names, clf.feature_importances_):\n",
        "    print(f\"{feature}: {importance:.4f}\")"
      ],
      "metadata": {
        "colab": {
          "base_uri": "https://localhost:8080/"
        },
        "id": "x-rNXBFapxkL",
        "outputId": "7f2d17df-ac20-4a0f-bae1-3879f34a70be"
      },
      "execution_count": 11,
      "outputs": [
        {
          "output_type": "stream",
          "name": "stdout",
          "text": [
            "Feature Importance Scores:\n",
            "sepal length (cm): 0.0000\n",
            "sepal width (cm): 0.0191\n",
            "petal length (cm): 0.8933\n",
            "petal width (cm): 0.0876\n"
          ]
        }
      ]
    },
    {
      "cell_type": "code",
      "source": [
        "#11. Write a Python program to train a Decision Tree Regressor with max_depth=5 and compare its performance with an unrestricted tree.\n",
        "from sklearn.datasets import fetch_california_housing\n",
        "from sklearn.model_selection import train_test_split\n",
        "from sklearn.tree import DecisionTreeRegressor\n",
        "from sklearn.metrics import mean_squared_error\n",
        "\n",
        "# Load California Housing dataset\n",
        "housing = fetch_california_housing()\n",
        "X, y = housing.data, housing.target\n",
        "\n",
        "# Split into training and testing sets\n",
        "X_train, X_test, y_train, y_test = train_test_split(X, y, test_size=0.3, random_state=42)\n",
        "\n",
        "# Train Decision Tree Regressor with max_depth=5\n",
        "reg_limited = DecisionTreeRegressor(max_depth=5, random_state=42)\n",
        "reg_limited.fit(X_train, y_train)\n",
        "y_pred_limited = reg_limited.predict(X_test)\n",
        "mse_limited = mean_squared_error(y_test, y_pred_limited)\n",
        "\n",
        "# Train unrestricted Decision Tree Regressor\n",
        "reg_full = DecisionTreeRegressor(random_state=42)\n",
        "reg_full.fit(X_train, y_train)\n",
        "y_pred_full = reg_full.predict(X_test)\n",
        "mse_full = mean_squared_error(y_test, y_pred_full)\n",
        "\n",
        "# Print MSE for both models\n",
        "print(f\"MSE with max_depth=5: {mse_limited:.4f}\")\n",
        "print(f\"MSE with unrestricted tree: {mse_full:.4f}\")"
      ],
      "metadata": {
        "colab": {
          "base_uri": "https://localhost:8080/"
        },
        "id": "FGmukhbrp_Qf",
        "outputId": "94f0de6c-96de-4f57-8623-5a6da816fc0b"
      },
      "execution_count": 12,
      "outputs": [
        {
          "output_type": "stream",
          "name": "stdout",
          "text": [
            "MSE with max_depth=5: 0.5211\n",
            "MSE with unrestricted tree: 0.5280\n"
          ]
        }
      ]
    },
    {
      "cell_type": "code",
      "source": [
        "#12. Write a Python program to train a Decision Tree Classifier, apply Cost Complexity Pruning (CCP), and visualize its effect on accuracy.\n",
        "from sklearn.datasets import load_iris\n",
        "from sklearn.model_selection import train_test_split\n",
        "from sklearn.tree import DecisionTreeClassifier\n",
        "from sklearn.metrics import accuracy_score\n",
        "import matplotlib.pyplot as plt\n",
        "\n",
        "# Load Iris dataset\n",
        "iris = load_iris()\n",
        "X, y = iris.data, iris.target\n",
        "\n",
        "# Split into training and testing sets\n",
        "X_train, X_test, y_train, y_test = train_test_split(X, y, test_size=0.3, random_state=42)\n",
        "\n",
        "# Train Decision Tree and get CCP path\n",
        "clf = DecisionTreeClassifier(random_state=42)\n",
        "path = clf.cost_complexity_pruning_path(X_train, y_train)\n",
        "ccp_alphas, impurities = path.ccp_alphas, path.impurities\n",
        "\n",
        "# Train models for each ccp_alpha and evaluate accuracy\n",
        "accuracies = []\n",
        "for ccp_alpha in ccp_alphas:\n",
        "    clf = DecisionTreeClassifier(random_state=42, ccp_alpha=ccp_alpha)\n",
        "    clf.fit(X_train, y_train)\n",
        "    y_pred = clf.predict(X_test)\n",
        "    accuracies.append(accuracy_score(y_test, y_pred))\n",
        "\n",
        "# Visualize accuracy vs ccp_alpha\n",
        "plt.plot(ccp_alphas, accuracies, marker='o')\n",
        "plt.xlabel('CCP Alpha')\n",
        "plt.ylabel('Accuracy')\n",
        "plt.title('Accuracy vs CCP Alpha for Pruning')\n",
        "plt.show()\n",
        "\n",
        "# Print accuracy for optimal ccp_alpha\n",
        "optimal_alpha = ccp_alphas[accuracies.index(max(accuracies))]\n",
        "print(f\"Optimal CCP Alpha: {optimal_alpha:.6f}\")\n",
        "print(f\"Accuracy with Optimal CCP Alpha: {max(accuracies):.4f}\")"
      ],
      "metadata": {
        "colab": {
          "base_uri": "https://localhost:8080/",
          "height": 508
        },
        "id": "Idccm7VRqFeK",
        "outputId": "677f89d1-90d7-42a9-8430-4f959eae3da3"
      },
      "execution_count": 13,
      "outputs": [
        {
          "output_type": "display_data",
          "data": {
            "text/plain": [
              "<Figure size 640x480 with 1 Axes>"
            ],
            "image/png": "[encoded data removed]"
          },
          "metadata": {}
        },
        {
          "output_type": "stream",
          "name": "stdout",
          "text": [
            "Optimal CCP Alpha: 0.000000\n",
            "Accuracy with Optimal CCP Alpha: 1.0000\n"
          ]
        }
      ]
    },
    {
      "cell_type": "code",
      "source": [
        "#13 Write a Python program to train a Decision Tree Classifier and evaluate its performance using Precision, Recall, and F1-Score.\n",
        "from sklearn.datasets import load_iris\n",
        "from sklearn.model_selection import train_test_split\n",
        "from sklearn.tree import DecisionTreeClassifier\n",
        "from sklearn.metrics import precision_score, recall_score, f1_score\n",
        "\n",
        "# Load Iris dataset\n",
        "iris = load_iris()\n",
        "X, y = iris.data, iris.target\n",
        "\n",
        "# Split into training and testing sets\n",
        "X_train, X_test, y_train, y_test = train_test_split(X, y, test_size=0.3, random_state=42)\n",
        "\n",
        "# Train Decision Tree Classifier\n",
        "clf = DecisionTreeClassifier(random_state=42)\n",
        "clf.fit(X_train, y_train)\n",
        "\n",
        "# Predict and evaluate metrics\n",
        "y_pred = clf.predict(X_test)\n",
        "precision = precision_score(y_test, y_pred, average='weighted')\n",
        "recall = recall_score(y_test, y_pred, average='weighted')\n",
        "f1 = f1_score(y_test, y_pred, average='weighted')\n",
        "\n",
        "# Print metrics\n",
        "print(f\"Precision: {precision:.4f}\")\n",
        "print(f\"Recall: {recall:.4f}\")\n",
        "print(f\"F1-Score: {f1:.4f}\")"
      ],
      "metadata": {
        "colab": {
          "base_uri": "https://localhost:8080/"
        },
        "id": "GW5H6mfbqPm8",
        "outputId": "03d97baa-d35f-4a2e-8849-544e8b98c341"
      },
      "execution_count": 14,
      "outputs": [
        {
          "output_type": "stream",
          "name": "stdout",
          "text": [
            "Precision: 1.0000\n",
            "Recall: 1.0000\n",
            "F1-Score: 1.0000\n"
          ]
        }
      ]
    },
    {
      "cell_type": "code",
      "source": [
        "#14. Write a Python program to train a Decision Tree Classifier and visualize the confusion matrix using seaborn.\n",
        "from sklearn.datasets import load_iris\n",
        "from sklearn.model_selection import train_test_split\n",
        "from sklearn.tree import DecisionTreeClassifier\n",
        "from sklearn.metrics import confusion_matrix\n",
        "import seaborn as sns\n",
        "import matplotlib.pyplot as plt\n",
        "\n",
        "# Load Iris dataset\n",
        "iris = load_iris()\n",
        "X, y = iris.data, iris.target\n",
        "\n",
        "# Split into training and testing sets\n",
        "X_train, X_test, y_train, y_test = train_test_split(X, y, test_size=0.3, random_state=42)\n",
        "\n",
        "# Train Decision Tree Classifier\n",
        "clf = DecisionTreeClassifier(random_state=42)\n",
        "clf.fit(X_train, y_train)\n",
        "\n",
        "# Predict and compute confusion matrix\n",
        "y_pred = clf.predict(X_test)\n",
        "cm = confusion_matrix(y_test, y_pred)\n",
        "\n",
        "# Visualize confusion matrix\n",
        "sns.heatmap(cm, annot=True, fmt='d', cmap='Blues', xticklabels=iris.target_names, yticklabels=iris.target_names)\n",
        "plt.xlabel('Predicted')\n",
        "plt.ylabel('Actual')\n",
        "plt.title('Confusion Matrix for Decision Tree Classifier')\n",
        "plt.show()"
      ],
      "metadata": {
        "colab": {
          "base_uri": "https://localhost:8080/",
          "height": 472
        },
        "id": "kSBnjfHoqZyd",
        "outputId": "ccd6546e-56ed-434a-8813-a62ec6f2feb3"
      },
      "execution_count": 15,
      "outputs": [
        {
          "output_type": "display_data",
          "data": {
            "text/plain": [
              "<Figure size 640x480 with 2 Axes>"
            ],
            "image/png": "[encoded data removed]"
          },
          "metadata": {}
        }
      ]
    },
    {
      "cell_type": "code",
      "source": [
        "#15. Write a Python program to train a Decision Tree Classifier and use GridSearchCV to find the optimal values for max_depth and min_samples_split.\n",
        "from sklearn.datasets import load_iris\n",
        "from sklearn.model_selection import train_test_split, GridSearchCV\n",
        "from sklearn.tree import DecisionTreeClassifier\n",
        "from sklearn.metrics import accuracy_score\n",
        "\n",
        "# Load Iris dataset\n",
        "iris = load_iris()\n",
        "X, y = iris.data, iris.target\n",
        "\n",
        "# Split into training and testing sets\n",
        "X_train, X_test, y_train, y_test = train_test_split(X, y, test_size=0.3, random_state=42)\n",
        "\n",
        "# Define parameter grid\n",
        "param_grid = {'max_depth': [3, 5, 7, None], 'min_samples_split': [2, 5, 10]}\n",
        "\n",
        "# Initialize and train GridSearchCV\n",
        "clf = DecisionTreeClassifier(random_state=42)\n",
        "grid_search = GridSearchCV(clf, param_grid, cv=5, scoring='accuracy')\n",
        "grid_search.fit(X_train, y_train)\n",
        "\n",
        "# Print best parameters and accuracy\n",
        "print(f\"Best Parameters: {grid_search.best_params_}\")\n",
        "y_pred = grid_search.predict(X_test)\n",
        "accuracy = accuracy_score(y_test, y_pred)\n",
        "print(f\"Model Accuracy with Best Parameters: {accuracy:.4f}\")"
      ],
      "metadata": {
        "colab": {
          "base_uri": "https://localhost:8080/"
        },
        "id": "AIVmGY2QqhUr",
        "outputId": "fe6c5cdd-2859-4ab9-cc88-df81f930b1f3"
      },
      "execution_count": 16,
      "outputs": [
        {
          "output_type": "stream",
          "name": "stdout",
          "text": [
            "Best Parameters: {'max_depth': 5, 'min_samples_split': 10}\n",
            "Model Accuracy with Best Parameters: 1.0000\n"
          ]
        }
      ]
    },
    {
      "cell_type": "code",
      "source": [],
      "metadata": {
        "id": "q4l3GGopqpv0"
      },
      "execution_count": null,
      "outputs": []
    }
  ]
}